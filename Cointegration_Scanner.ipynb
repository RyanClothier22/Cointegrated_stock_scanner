{
  "nbformat": 4,
  "nbformat_minor": 0,
  "metadata": {
    "colab": {
      "provenance": [],
      "collapsed_sections": [
        "EL5xdBpriy84",
        "mX3gApVMGsOD",
        "dar9RyOJtsqZ",
        "8qIBDvmvppgZ",
        "gqojc3fUjUNg",
        "POZGHGxgjD3F"
      ],
      "authorship_tag": "ABX9TyO3P9/J/MrL12r7TqTLfnI/",
      "include_colab_link": true
    },
    "kernelspec": {
      "name": "python3",
      "display_name": "Python 3"
    },
    "language_info": {
      "name": "python"
    }
  },
  "cells": [
    {
      "cell_type": "markdown",
      "metadata": {
        "id": "view-in-github",
        "colab_type": "text"
      },
      "source": [
        "<a href=\"https://colab.research.google.com/github/RyanClothier22/Cointegrated_stock_scanner/blob/main/Cointegration_Scanner.ipynb\" target=\"_parent\"><img src=\"https://colab.research.google.com/assets/colab-badge.svg\" alt=\"Open In Colab\"/></a>"
      ]
    },
    {
      "cell_type": "markdown",
      "source": [
        "### Imports"
      ],
      "metadata": {
        "id": "EL5xdBpriy84"
      }
    },
    {
      "cell_type": "code",
      "source": [
        "!pip install yfinance"
      ],
      "metadata": {
        "colab": {
          "base_uri": "https://localhost:8080/"
        },
        "id": "nv4ZwJlWjpNk",
        "outputId": "75eeb549-c766-4d7a-a75d-a1c260000739"
      },
      "execution_count": 36,
      "outputs": [
        {
          "output_type": "stream",
          "name": "stdout",
          "text": [
            "Looking in indexes: https://pypi.org/simple, https://us-python.pkg.dev/colab-wheels/public/simple/\n",
            "Requirement already satisfied: yfinance in /usr/local/lib/python3.9/dist-packages (0.2.13)\n",
            "Requirement already satisfied: cryptography>=3.3.2 in /usr/local/lib/python3.9/dist-packages (from yfinance) (39.0.2)\n",
            "Requirement already satisfied: requests>=2.26 in /usr/local/lib/python3.9/dist-packages (from yfinance) (2.27.1)\n",
            "Requirement already satisfied: appdirs>=1.4.4 in /usr/local/lib/python3.9/dist-packages (from yfinance) (1.4.4)\n",
            "Requirement already satisfied: lxml>=4.9.1 in /usr/local/lib/python3.9/dist-packages (from yfinance) (4.9.2)\n",
            "Requirement already satisfied: pytz>=2022.5 in /usr/local/lib/python3.9/dist-packages (from yfinance) (2022.7.1)\n",
            "Requirement already satisfied: html5lib>=1.1 in /usr/local/lib/python3.9/dist-packages (from yfinance) (1.1)\n",
            "Requirement already satisfied: pandas>=1.3.0 in /usr/local/lib/python3.9/dist-packages (from yfinance) (1.4.4)\n",
            "Requirement already satisfied: numpy>=1.16.5 in /usr/local/lib/python3.9/dist-packages (from yfinance) (1.22.4)\n",
            "Requirement already satisfied: frozendict>=2.3.4 in /usr/local/lib/python3.9/dist-packages (from yfinance) (2.3.6)\n",
            "Requirement already satisfied: multitasking>=0.0.7 in /usr/local/lib/python3.9/dist-packages (from yfinance) (0.0.11)\n",
            "Requirement already satisfied: beautifulsoup4>=4.11.1 in /usr/local/lib/python3.9/dist-packages (from yfinance) (4.11.2)\n",
            "Requirement already satisfied: soupsieve>1.2 in /usr/local/lib/python3.9/dist-packages (from beautifulsoup4>=4.11.1->yfinance) (2.4)\n",
            "Requirement already satisfied: cffi>=1.12 in /usr/local/lib/python3.9/dist-packages (from cryptography>=3.3.2->yfinance) (1.15.1)\n",
            "Requirement already satisfied: six>=1.9 in /usr/local/lib/python3.9/dist-packages (from html5lib>=1.1->yfinance) (1.16.0)\n",
            "Requirement already satisfied: webencodings in /usr/local/lib/python3.9/dist-packages (from html5lib>=1.1->yfinance) (0.5.1)\n",
            "Requirement already satisfied: python-dateutil>=2.8.1 in /usr/local/lib/python3.9/dist-packages (from pandas>=1.3.0->yfinance) (2.8.2)\n",
            "Requirement already satisfied: idna<4,>=2.5 in /usr/local/lib/python3.9/dist-packages (from requests>=2.26->yfinance) (3.4)\n",
            "Requirement already satisfied: certifi>=2017.4.17 in /usr/local/lib/python3.9/dist-packages (from requests>=2.26->yfinance) (2022.12.7)\n",
            "Requirement already satisfied: charset-normalizer~=2.0.0 in /usr/local/lib/python3.9/dist-packages (from requests>=2.26->yfinance) (2.0.12)\n",
            "Requirement already satisfied: urllib3<1.27,>=1.21.1 in /usr/local/lib/python3.9/dist-packages (from requests>=2.26->yfinance) (1.26.15)\n",
            "Requirement already satisfied: pycparser in /usr/local/lib/python3.9/dist-packages (from cffi>=1.12->cryptography>=3.3.2->yfinance) (2.21)\n"
          ]
        }
      ]
    },
    {
      "cell_type": "code",
      "source": [
        "import numpy as np\n",
        "import pandas as pd\n",
        "import yfinance as yf\n",
        "import datetime as dt\n",
        "import statsmodels.tsa.stattools as ts \n",
        "from scipy.stats import pearsonr, linregress\n",
        "import matplotlib.pyplot as plt\n",
        "import random\n",
        "import time\n",
        "import matplotlib.dates as mdates"
      ],
      "metadata": {
        "id": "OKpNFBjti2Wz"
      },
      "execution_count": 37,
      "outputs": []
    },
    {
      "cell_type": "markdown",
      "source": [
        "### Initalizing Data Window"
      ],
      "metadata": {
        "id": "mX3gApVMGsOD"
      }
    },
    {
      "cell_type": "code",
      "source": [
        "end = dt.date.today() - dt.timedelta(days=1)\n",
        "start = end - dt.timedelta(days=365*4)"
      ],
      "metadata": {
        "id": "6QWVgjlCjsrW"
      },
      "execution_count": 38,
      "outputs": []
    },
    {
      "cell_type": "markdown",
      "source": [
        "### Define Helper Functions"
      ],
      "metadata": {
        "id": "dar9RyOJtsqZ"
      }
    },
    {
      "cell_type": "code",
      "source": [
        "def get_data(stock, start, end):\n",
        "  df = yf.download(stock, start, end)\n",
        "  return df['Adj Close'], df['Volume']"
      ],
      "metadata": {
        "id": "947zHEo51_Sm"
      },
      "execution_count": 39,
      "outputs": []
    },
    {
      "cell_type": "code",
      "source": [
        "def get_sp():\n",
        "  data = pd.read_html('https://en.wikipedia.org/wiki/List_of_S%26P_500_companies')\n",
        "  df = data[0]\n",
        "  stocks = df['Symbol'].tolist()\n",
        "  for i in range(len(stocks)):\n",
        "    if \".\"  in stocks[i]:\n",
        "      stocks[i] = stocks[i].replace(\".\", \"-\")\n",
        "  return stocks[:50]"
      ],
      "metadata": {
        "id": "TMNZOBpl2pln"
      },
      "execution_count": 40,
      "outputs": []
    },
    {
      "cell_type": "code",
      "source": [
        " ### Define the Cointegration tester function\n",
        "def coint_test(A, B):\n",
        "  if A.name != B.name:\n",
        "    if pearsonr(A,B).pvalue < 0.02:\n",
        "      if linregress(A,B).rvalue ** 2 > 0.9:\n",
        "        if ts.coint(A,B)[1]  < 0.02:\n",
        "            return [A.name, B.name]\n"
      ],
      "metadata": {
        "id": "nKActcgvuJuL"
      },
      "execution_count": 41,
      "outputs": []
    },
    {
      "cell_type": "code",
      "source": [
        "# Find Cointegrated Pairs from DataFrame\n",
        "\n",
        "def find_pairs(df):\n",
        "  tickers = df.columns.tolist()\n",
        "  coint_list = []\n",
        "  for i in range(len(tickers)):\n",
        "    for j in range(i, len(tickers)):\n",
        "      entry = coint_test(df[tickers[i]],df[tickers[j]])\n",
        "      if entry != None:\n",
        "        coint_list.append(entry)\n",
        "    \n",
        "    print(f\"Found {len(coint_list)} after {i+1} Stocks\")\n",
        "\n",
        "  return coint_list"
      ],
      "metadata": {
        "id": "njSw_0w60-0r"
      },
      "execution_count": 42,
      "outputs": []
    },
    {
      "cell_type": "code",
      "source": [
        "# Make a Seires with the 100 highest volume stocks\n",
        "def find_highest_volumes(volumes,df):\n",
        "  means = {}\n",
        "  for i in volumes.columns:\n",
        "    means[i] = volumes[i].mean()\n",
        "  means = pd.Series(means)\n",
        "  means.sort_values(ascending=False)\n",
        "  means = means[:100]\n",
        "  high_volume_data = pd.DataFrame()\n",
        "  for i in means.index.tolist():\n",
        "    high_volume_data[i] = df[i]"
      ],
      "metadata": {
        "id": "XiffAr3b1h5S"
      },
      "execution_count": 43,
      "outputs": []
    },
    {
      "cell_type": "code",
      "source": [
        "### Returns Train split of data set\n",
        "def train(X):\n",
        "  return X[:int(len(X)*0.7)]"
      ],
      "metadata": {
        "id": "n2xF0qTO3xua"
      },
      "execution_count": 44,
      "outputs": []
    },
    {
      "cell_type": "code",
      "source": [
        "### Returns Test split of data set\n",
        "def test(X):\n",
        "  return X[int(len(X)*0.7):]"
      ],
      "metadata": {
        "id": "c2pwAu7X4Ld6"
      },
      "execution_count": 45,
      "outputs": []
    },
    {
      "cell_type": "markdown",
      "source": [
        "### Define Chart Functions"
      ],
      "metadata": {
        "id": "8qIBDvmvppgZ"
      }
    },
    {
      "cell_type": "code",
      "source": [
        "### Make a heatmap grid to show findings"
      ],
      "metadata": {
        "id": "Vii2M_tJvXAj"
      },
      "execution_count": 46,
      "outputs": []
    },
    {
      "cell_type": "code",
      "source": [
        "def dual_axis_chart(A,B,ax):\n",
        "  ax.set_title(f\"Price overlay of {A.name} and {B.name}\")\n",
        "  ax2 = ax.twinx()\n",
        "  ax.plot(A, color='orange', label=f'{A.name}')\n",
        "  ax2.plot(B, color='blue', label=f'{B.name}')\n",
        "  ax.xaxis.set_major_locator(mdates.DayLocator(interval=365))\n",
        "  ax.set_ylabel(f'{A.name} Price')\n",
        "  ax2.set_ylabel(f'{B.name} Price')\n",
        "  ax.xaxis.set_major_formatter(mdates.DateFormatter('%Y'))\n",
        "  ax.legend(fancybox=True, framealpha=0.5, loc=1)\n",
        "  ax2.legend(fancybox=True, framealpha=0.5, loc=2)"
      ],
      "metadata": {
        "id": "mo1m5EEv4gKb"
      },
      "execution_count": 47,
      "outputs": []
    },
    {
      "cell_type": "code",
      "source": [
        "def scatter_chart(A,B,ax):\n",
        "  ax.scatter(train(A),train(B), color='blue', label='train data')\n",
        "  ax.scatter(test(A),test(B), color='orange',label='test data')\n",
        "  ax.set_xlabel(f'{A.name} price')\n",
        "  ax.set_ylabel(f'{B.name} price')\n",
        "  regression = linregress(A,B)\n",
        "  a = regression.slope\n",
        "  b=regression.intercept\n",
        "  ax.plot(A, a* A + b,color='red')\n",
        "  ax.set_title(f\"R Squared: {round(regression.rvalue ** 2,2)}\")\n",
        "  ax.legend(fancybox=True, framealpha=0.5, loc=2)"
      ],
      "metadata": {
        "id": "JL87LV-jApkB"
      },
      "execution_count": 48,
      "outputs": []
    },
    {
      "cell_type": "code",
      "source": [
        "def ratio_plot(A,B,ax):\n",
        "  fig = plt.figure()\n",
        "  ratio = A/B\n",
        "  ax.plot(train(ratio), color='blue', label='Train Data')\n",
        "  ax.plot(test(ratio), color='orange', label='Test Data')\n",
        "  ax.set_title(f\"Price Ratio of {A.name} and {B.name}\")\n",
        "  ax.legend(fancybox=True, framealpha=0.5, loc=1)\n",
        "  ax.xaxis.set_major_locator(mdates.DayLocator(interval=365))\n",
        "  ax.xaxis.set_major_formatter(mdates.DateFormatter('%Y'))"
      ],
      "metadata": {
        "id": "sbMlL8O4Fcp9"
      },
      "execution_count": 49,
      "outputs": []
    },
    {
      "cell_type": "code",
      "source": [
        "def zscore_plot(A, B,ax):\n",
        "  ratio = A/B\n",
        "  mavg_5 = ratio.rolling(5).mean()\n",
        "  mavg_60 = ratio.rolling(60).mean()\n",
        "  std_60 = ratio.rolling(60).std()\n",
        "  zscore = (mavg_5 - mavg_60)/std_60\n",
        "  ax.plot(zscore[60:], color='blue')\n",
        "  ax.set_title(f\"Z-Score plot of Price Ratio\")\n",
        "  ax.axhline(y=-0.5, color='red', linestyle='--')\n",
        "  ax.axhline(y=0.5, color='red', linestyle='--', label='Buy Spread')\n",
        "  ax.axhline(y=1, color='orange', label='Sell Spread')\n",
        "  ax.axhline(y=-1, color='orange')\n",
        "  ax.set_ylabel('Standard Deviation')\n",
        "  ax.legend()\n",
        "  ax.xaxis.set_major_locator(mdates.DayLocator(interval=365))\n",
        "  ax.xaxis.set_major_formatter(mdates.DateFormatter('%Y'))"
      ],
      "metadata": {
        "id": "vJps-Ee7EqZL"
      },
      "execution_count": 50,
      "outputs": []
    },
    {
      "cell_type": "code",
      "source": [
        "def buy_sell_signals(A, B, ax):\n",
        "  ax.plot(A,color='blue',label=A.name)\n",
        "  ax.plot(B,color='orange',label=B.name)\n",
        "  ax.set_title(f\"Buy and Sell Signals\")\n",
        "\n",
        "  ratio = A/B\n",
        "  mavg_5 = ratio.rolling(5).mean()\n",
        "  mavg_60 = ratio.rolling(60).mean()\n",
        "  std_60 = ratio.rolling(60).std()\n",
        "  zscore = (mavg_5 - mavg_60)/std_60\n",
        "\n",
        "\n",
        "  buy = A.copy()\n",
        "  sell = B.copy()\n",
        "  buy[zscore>-1] = 0\n",
        "  sell[zscore<1] = 0\n",
        "  ax.plot(buy[60:], color='green', linestyle='None', marker='^', label='buy')\n",
        "  ax.plot(sell[60:],color='red', linestyle='None', marker='^', label='sell')\n",
        "  ax.set_ylim(min(A.min(), B.min()), max(A.max(), B.max()))\n",
        "  ax.legend()\n",
        "  ax.xaxis.set_major_locator(mdates.DayLocator(interval=180))\n",
        "  ax.xaxis.set_major_formatter(mdates.DateFormatter('%Y'))\n"
      ],
      "metadata": {
        "id": "Ox37fs_SSAVW"
      },
      "execution_count": 51,
      "outputs": []
    },
    {
      "cell_type": "code",
      "source": [
        "# Trade using a simple strategy\n",
        "def trade(A, B):\n",
        "  \n",
        "  balance = []\n",
        "\n",
        "  ratio = A/B\n",
        "  mavg_5 = ratio.rolling(5).mean()\n",
        "  mavg_60 = ratio.rolling(60).mean()\n",
        "  std_60 = ratio.rolling(60).std()\n",
        "  zscore = (mavg_5 - mavg_60)/std_60\n",
        "    \n",
        "  cash = 100\n",
        "  A_shares = 0\n",
        "  B_shares = 0\n",
        "  for i in range(len(ratio)):\n",
        "      if zscore[i] > 1:\n",
        "          cash += A[i] - B[i] * ratio[i]\n",
        "          A_shares -= 1\n",
        "          B_shares += ratio[i]\n",
        "      elif zscore[i] < -1:\n",
        "          cash -= A[i] - B[i] * ratio[i]\n",
        "          A_shares += 1\n",
        "          B_shares -= ratio[i]\n",
        "      elif abs(zscore[i]) < 0.75:\n",
        "          cash += A[i] * A_shares + B[i] * B_shares\n",
        "          A_shares = 0\n",
        "          B_shares = 0\n",
        "          \n",
        "      balance.append(cash)\n",
        "  return balance"
      ],
      "metadata": {
        "id": "4VH7VRPmwsmb"
      },
      "execution_count": 52,
      "outputs": []
    },
    {
      "cell_type": "code",
      "source": [
        "def simulation_plot(A,B,ax):\n",
        "  ax.set_title(f\"Returns from last {len(A)} days using strategy\")\n",
        "  ax.plot(A.index, trade(A,B))\n",
        "  ax.xaxis.set_major_locator(mdates.DayLocator(interval=180))\n",
        "  ax.xaxis.set_major_formatter(mdates.DateFormatter('%Y'))\n",
        "\n"
      ],
      "metadata": {
        "id": "PE1wP2mvSHHC"
      },
      "execution_count": 53,
      "outputs": []
    },
    {
      "cell_type": "code",
      "source": [
        "def residual_plot(A, B, ax):\n",
        "  res = A - B\n",
        "  ax.set_title(\"Price Gap\")\n",
        "  ax.plot(train(res), color='blue')\n",
        "  ax.plot(test(res), color = 'orange')\n",
        "  ax.xaxis.set_major_locator(mdates.DayLocator(interval=365))\n",
        "  ax.xaxis.set_major_formatter(mdates.DateFormatter('%Y'))"
      ],
      "metadata": {
        "id": "itDOGqBrA2JI"
      },
      "execution_count": 54,
      "outputs": []
    },
    {
      "cell_type": "code",
      "source": [
        "def make_subplot(A,B):\n",
        "  fig, ax = plt.subplots(2,3, figsize=(15,10))\n",
        "  fig.tight_layout(pad=5)\n",
        "  fig.suptitle(f\"{A.name} and {B.name} Cointegration Dashboard\", fontsize=25, y=1.03)\n",
        "  dual_axis_chart(A,B,ax[0][0])\n",
        "  ratio_plot(A,B, ax[0][1])\n",
        "  scatter_chart(A,B, ax[1][0])\n",
        "  zscore_plot(A,B, ax[1][1])\n",
        "  buy_sell_signals(test(A),test(B), ax[0,2])\n",
        "  simulation_plot(test(A),test(B), ax[1][2])\n",
        "  return fig"
      ],
      "metadata": {
        "id": "NMpVXoHWJOLp"
      },
      "execution_count": 55,
      "outputs": []
    },
    {
      "cell_type": "code",
      "source": [
        "def summary_chart(A,B):\n",
        "  fig, ax = plt.subplots(3,3, figsize=(15,15))\n",
        "  fig.tight_layout(pad=5)\n",
        "  fig.suptitle(f\"{A.name} and {B.name} Summary plots\", fontsize=25, y=1.01)\n",
        "  residual_plot(A,B, ax[0][0])\n",
        "  scatter_chart(A,B, ax[0][1])\n",
        "  ratio_plot(A,B, ax[0][2])\n",
        "  zscore_plot(train(A), train(B), ax[1][0])\n",
        "  buy_sell_signals(train(A),train(B), ax[1][1])\n",
        "  simulation_plot(train(A),train(B), ax[1][2])\n",
        "  zscore_plot(test(A), test(B), ax[2][0])\n",
        "  buy_sell_signals(test(A),test(B), ax[2][1])\n",
        "  simulation_plot(test(A),test(B), ax[2][2])\n",
        "  return fig"
      ],
      "metadata": {
        "id": "I8V6yJ8f5icR"
      },
      "execution_count": 56,
      "outputs": []
    },
    {
      "cell_type": "markdown",
      "source": [
        "### Run Screener"
      ],
      "metadata": {
        "id": "gqojc3fUjUNg"
      }
    },
    {
      "cell_type": "code",
      "source": [
        " ### Download Adj Close and Volume Data\n",
        "df, volume = get_data(get_sp(), start, end)\n",
        "df = df.dropna(axis=1)\n",
        "volume = volume.dropna(axis=1)"
      ],
      "metadata": {
        "colab": {
          "base_uri": "https://localhost:8080/"
        },
        "id": "n_6lgu883Qv7",
        "outputId": "6ac97282-50dd-4df9-ac26-e33fcd143e3d"
      },
      "execution_count": 57,
      "outputs": [
        {
          "output_type": "stream",
          "name": "stdout",
          "text": [
            "[*********************100%***********************]  50 of 50 completed\n"
          ]
        }
      ]
    },
    {
      "cell_type": "code",
      "source": [
        "### Gets stock data with the 100 highest average trading volume\n",
        "high_volume_data = find_highest_volumes(volume, df)"
      ],
      "metadata": {
        "id": "RisslYhNmOTy"
      },
      "execution_count": 58,
      "outputs": []
    },
    {
      "cell_type": "code",
      "source": [
        "coint_list = find_pairs(train(df))"
      ],
      "metadata": {
        "colab": {
          "base_uri": "https://localhost:8080/"
        },
        "id": "pSYFhwHo4uwi",
        "outputId": "de8c38b8-1a8c-4abc-d3e8-6ff7802ed9a1"
      },
      "execution_count": 59,
      "outputs": [
        {
          "output_type": "stream",
          "name": "stdout",
          "text": [
            "Found 0 after 1 Stocks\n",
            "Found 0 after 2 Stocks\n",
            "Found 0 after 3 Stocks\n",
            "Found 1 after 4 Stocks\n",
            "Found 1 after 5 Stocks\n",
            "Found 2 after 6 Stocks\n",
            "Found 2 after 7 Stocks\n",
            "Found 2 after 8 Stocks\n",
            "Found 5 after 9 Stocks\n",
            "Found 5 after 10 Stocks\n",
            "Found 9 after 11 Stocks\n",
            "Found 11 after 12 Stocks\n",
            "Found 11 after 13 Stocks\n",
            "Found 11 after 14 Stocks\n",
            "Found 11 after 15 Stocks\n",
            "Found 11 after 16 Stocks\n",
            "Found 11 after 17 Stocks\n",
            "Found 11 after 18 Stocks\n",
            "Found 12 after 19 Stocks\n",
            "Found 12 after 20 Stocks\n",
            "Found 12 after 21 Stocks\n",
            "Found 12 after 22 Stocks\n",
            "Found 12 after 23 Stocks\n",
            "Found 12 after 24 Stocks\n",
            "Found 12 after 25 Stocks\n",
            "Found 12 after 26 Stocks\n",
            "Found 12 after 27 Stocks\n",
            "Found 12 after 28 Stocks\n",
            "Found 12 after 29 Stocks\n",
            "Found 12 after 30 Stocks\n",
            "Found 12 after 31 Stocks\n",
            "Found 12 after 32 Stocks\n",
            "Found 12 after 33 Stocks\n",
            "Found 12 after 34 Stocks\n",
            "Found 12 after 35 Stocks\n",
            "Found 12 after 36 Stocks\n",
            "Found 12 after 37 Stocks\n",
            "Found 12 after 38 Stocks\n",
            "Found 12 after 39 Stocks\n",
            "Found 12 after 40 Stocks\n",
            "Found 12 after 41 Stocks\n",
            "Found 12 after 42 Stocks\n",
            "Found 12 after 43 Stocks\n",
            "Found 12 after 44 Stocks\n",
            "Found 12 after 45 Stocks\n",
            "Found 12 after 46 Stocks\n",
            "Found 12 after 47 Stocks\n",
            "Found 12 after 48 Stocks\n",
            "Found 12 after 49 Stocks\n",
            "Found 12 after 50 Stocks\n"
          ]
        }
      ]
    },
    {
      "cell_type": "code",
      "source": [
        "### Displays how many cointegrated pairs were found\n",
        "print(len(coint_list))"
      ],
      "metadata": {
        "colab": {
          "base_uri": "https://localhost:8080/"
        },
        "id": "RZvg8bTpGsBc",
        "outputId": "ff21b825-c33b-4a42-a486-7c692ddcba85"
      },
      "execution_count": 60,
      "outputs": [
        {
          "output_type": "stream",
          "name": "stdout",
          "text": [
            "12\n"
          ]
        }
      ]
    },
    {
      "cell_type": "markdown",
      "source": [
        "### Show Sample Charts"
      ],
      "metadata": {
        "id": "POZGHGxgjD3F"
      }
    },
    {
      "cell_type": "code",
      "source": [
        "i = random.choice(coint_list)\n",
        "A, B = df[i[0]], df[i[1]]\n",
        "plt = make_subplot(A,B)"
      ],
      "metadata": {
        "colab": {
          "base_uri": "https://localhost:8080/",
          "height": 329
        },
        "id": "bknsVqXQJjBL",
        "outputId": "0fbf068a-0000-4c4b-ae98-758130762844"
      },
      "execution_count": 65,
      "outputs": [
        {
          "output_type": "error",
          "ename": "TypeError",
          "evalue": "ignored",
          "traceback": [
            "\u001b[0;31m---------------------------------------------------------------------------\u001b[0m",
            "\u001b[0;31mTypeError\u001b[0m                                 Traceback (most recent call last)",
            "\u001b[0;32m<ipython-input-65-7fc777649988>\u001b[0m in \u001b[0;36m<module>\u001b[0;34m\u001b[0m\n\u001b[1;32m      1\u001b[0m \u001b[0mi\u001b[0m \u001b[0;34m=\u001b[0m \u001b[0mrandom\u001b[0m\u001b[0;34m.\u001b[0m\u001b[0mchoice\u001b[0m\u001b[0;34m(\u001b[0m\u001b[0mcoint_list\u001b[0m\u001b[0;34m)\u001b[0m\u001b[0;34m\u001b[0m\u001b[0;34m\u001b[0m\u001b[0m\n\u001b[1;32m      2\u001b[0m \u001b[0mA\u001b[0m\u001b[0;34m,\u001b[0m \u001b[0mB\u001b[0m \u001b[0;34m=\u001b[0m \u001b[0mdf\u001b[0m\u001b[0;34m[\u001b[0m\u001b[0mi\u001b[0m\u001b[0;34m[\u001b[0m\u001b[0;36m0\u001b[0m\u001b[0;34m]\u001b[0m\u001b[0;34m]\u001b[0m\u001b[0;34m,\u001b[0m \u001b[0mdf\u001b[0m\u001b[0;34m[\u001b[0m\u001b[0mi\u001b[0m\u001b[0;34m[\u001b[0m\u001b[0;36m1\u001b[0m\u001b[0;34m]\u001b[0m\u001b[0;34m]\u001b[0m\u001b[0;34m\u001b[0m\u001b[0;34m\u001b[0m\u001b[0m\n\u001b[0;32m----> 3\u001b[0;31m \u001b[0mplt\u001b[0m \u001b[0;34m=\u001b[0m \u001b[0mmake_subplot\u001b[0m\u001b[0;34m(\u001b[0m\u001b[0mA\u001b[0m\u001b[0;34m,\u001b[0m\u001b[0mB\u001b[0m\u001b[0;34m)\u001b[0m\u001b[0;34m\u001b[0m\u001b[0;34m\u001b[0m\u001b[0m\n\u001b[0m",
            "\u001b[0;32m<ipython-input-55-0fdea694dc30>\u001b[0m in \u001b[0;36mmake_subplot\u001b[0;34m(A, B)\u001b[0m\n\u001b[1;32m      1\u001b[0m \u001b[0;32mdef\u001b[0m \u001b[0mmake_subplot\u001b[0m\u001b[0;34m(\u001b[0m\u001b[0mA\u001b[0m\u001b[0;34m,\u001b[0m\u001b[0mB\u001b[0m\u001b[0;34m)\u001b[0m\u001b[0;34m:\u001b[0m\u001b[0;34m\u001b[0m\u001b[0;34m\u001b[0m\u001b[0m\n\u001b[0;32m----> 2\u001b[0;31m   \u001b[0mfig\u001b[0m\u001b[0;34m,\u001b[0m \u001b[0max\u001b[0m \u001b[0;34m=\u001b[0m \u001b[0mplt\u001b[0m\u001b[0;34m.\u001b[0m\u001b[0msubplots\u001b[0m\u001b[0;34m(\u001b[0m\u001b[0;36m2\u001b[0m\u001b[0;34m,\u001b[0m\u001b[0;36m3\u001b[0m\u001b[0;34m,\u001b[0m \u001b[0mfigsize\u001b[0m\u001b[0;34m=\u001b[0m\u001b[0;34m(\u001b[0m\u001b[0;36m15\u001b[0m\u001b[0;34m,\u001b[0m\u001b[0;36m10\u001b[0m\u001b[0;34m)\u001b[0m\u001b[0;34m)\u001b[0m\u001b[0;34m\u001b[0m\u001b[0;34m\u001b[0m\u001b[0m\n\u001b[0m\u001b[1;32m      3\u001b[0m   \u001b[0mfig\u001b[0m\u001b[0;34m.\u001b[0m\u001b[0mtight_layout\u001b[0m\u001b[0;34m(\u001b[0m\u001b[0mpad\u001b[0m\u001b[0;34m=\u001b[0m\u001b[0;36m5\u001b[0m\u001b[0;34m)\u001b[0m\u001b[0;34m\u001b[0m\u001b[0;34m\u001b[0m\u001b[0m\n\u001b[1;32m      4\u001b[0m   \u001b[0mfig\u001b[0m\u001b[0;34m.\u001b[0m\u001b[0msuptitle\u001b[0m\u001b[0;34m(\u001b[0m\u001b[0;34mf\"{A.name} and {B.name} Cointegration Dashboard\"\u001b[0m\u001b[0;34m,\u001b[0m \u001b[0mfontsize\u001b[0m\u001b[0;34m=\u001b[0m\u001b[0;36m25\u001b[0m\u001b[0;34m,\u001b[0m \u001b[0my\u001b[0m\u001b[0;34m=\u001b[0m\u001b[0;36m1.03\u001b[0m\u001b[0;34m)\u001b[0m\u001b[0;34m\u001b[0m\u001b[0;34m\u001b[0m\u001b[0m\n\u001b[1;32m      5\u001b[0m   \u001b[0mdual_axis_chart\u001b[0m\u001b[0;34m(\u001b[0m\u001b[0mA\u001b[0m\u001b[0;34m,\u001b[0m\u001b[0mB\u001b[0m\u001b[0;34m,\u001b[0m\u001b[0max\u001b[0m\u001b[0;34m[\u001b[0m\u001b[0;36m0\u001b[0m\u001b[0;34m]\u001b[0m\u001b[0;34m[\u001b[0m\u001b[0;36m0\u001b[0m\u001b[0;34m]\u001b[0m\u001b[0;34m)\u001b[0m\u001b[0;34m\u001b[0m\u001b[0;34m\u001b[0m\u001b[0m\n",
            "\u001b[0;31mTypeError\u001b[0m: subplots() got an unexpected keyword argument 'figsize'"
          ]
        }
      ]
    },
    {
      "cell_type": "code",
      "source": [
        "plt = summary_chart(A,B)"
      ],
      "metadata": {
        "id": "yjmG0jyTKZbP",
        "colab": {
          "base_uri": "https://localhost:8080/",
          "height": 294
        },
        "outputId": "1cd19b00-6f56-4ffc-d360-f02aa6f628cc"
      },
      "execution_count": 62,
      "outputs": [
        {
          "output_type": "error",
          "ename": "TypeError",
          "evalue": "ignored",
          "traceback": [
            "\u001b[0;31m---------------------------------------------------------------------------\u001b[0m",
            "\u001b[0;31mTypeError\u001b[0m                                 Traceback (most recent call last)",
            "\u001b[0;32m<ipython-input-62-65cebda94d21>\u001b[0m in \u001b[0;36m<module>\u001b[0;34m\u001b[0m\n\u001b[0;32m----> 1\u001b[0;31m \u001b[0mplt\u001b[0m \u001b[0;34m=\u001b[0m \u001b[0msummary_chart\u001b[0m\u001b[0;34m(\u001b[0m\u001b[0mA\u001b[0m\u001b[0;34m,\u001b[0m\u001b[0mB\u001b[0m\u001b[0;34m)\u001b[0m\u001b[0;34m\u001b[0m\u001b[0;34m\u001b[0m\u001b[0m\n\u001b[0m",
            "\u001b[0;32m<ipython-input-56-950d22746ebe>\u001b[0m in \u001b[0;36msummary_chart\u001b[0;34m(A, B)\u001b[0m\n\u001b[1;32m      1\u001b[0m \u001b[0;32mdef\u001b[0m \u001b[0msummary_chart\u001b[0m\u001b[0;34m(\u001b[0m\u001b[0mA\u001b[0m\u001b[0;34m,\u001b[0m\u001b[0mB\u001b[0m\u001b[0;34m)\u001b[0m\u001b[0;34m:\u001b[0m\u001b[0;34m\u001b[0m\u001b[0;34m\u001b[0m\u001b[0m\n\u001b[0;32m----> 2\u001b[0;31m   \u001b[0mfig\u001b[0m\u001b[0;34m,\u001b[0m \u001b[0max\u001b[0m \u001b[0;34m=\u001b[0m \u001b[0mplt\u001b[0m\u001b[0;34m.\u001b[0m\u001b[0msubplots\u001b[0m\u001b[0;34m(\u001b[0m\u001b[0;36m3\u001b[0m\u001b[0;34m,\u001b[0m\u001b[0;36m3\u001b[0m\u001b[0;34m,\u001b[0m \u001b[0mfigsize\u001b[0m\u001b[0;34m=\u001b[0m\u001b[0;34m(\u001b[0m\u001b[0;36m15\u001b[0m\u001b[0;34m,\u001b[0m\u001b[0;36m15\u001b[0m\u001b[0;34m)\u001b[0m\u001b[0;34m)\u001b[0m\u001b[0;34m\u001b[0m\u001b[0;34m\u001b[0m\u001b[0m\n\u001b[0m\u001b[1;32m      3\u001b[0m   \u001b[0mfig\u001b[0m\u001b[0;34m.\u001b[0m\u001b[0mtight_layout\u001b[0m\u001b[0;34m(\u001b[0m\u001b[0mpad\u001b[0m\u001b[0;34m=\u001b[0m\u001b[0;36m5\u001b[0m\u001b[0;34m)\u001b[0m\u001b[0;34m\u001b[0m\u001b[0;34m\u001b[0m\u001b[0m\n\u001b[1;32m      4\u001b[0m   \u001b[0mfig\u001b[0m\u001b[0;34m.\u001b[0m\u001b[0msuptitle\u001b[0m\u001b[0;34m(\u001b[0m\u001b[0;34mf\"{A.name} and {B.name} Summary plots\"\u001b[0m\u001b[0;34m,\u001b[0m \u001b[0mfontsize\u001b[0m\u001b[0;34m=\u001b[0m\u001b[0;36m25\u001b[0m\u001b[0;34m,\u001b[0m \u001b[0my\u001b[0m\u001b[0;34m=\u001b[0m\u001b[0;36m1.01\u001b[0m\u001b[0;34m)\u001b[0m\u001b[0;34m\u001b[0m\u001b[0;34m\u001b[0m\u001b[0m\n\u001b[1;32m      5\u001b[0m   \u001b[0mresidual_plot\u001b[0m\u001b[0;34m(\u001b[0m\u001b[0mA\u001b[0m\u001b[0;34m,\u001b[0m\u001b[0mB\u001b[0m\u001b[0;34m,\u001b[0m \u001b[0max\u001b[0m\u001b[0;34m[\u001b[0m\u001b[0;36m0\u001b[0m\u001b[0;34m]\u001b[0m\u001b[0;34m[\u001b[0m\u001b[0;36m0\u001b[0m\u001b[0;34m]\u001b[0m\u001b[0;34m)\u001b[0m\u001b[0;34m\u001b[0m\u001b[0;34m\u001b[0m\u001b[0m\n",
            "\u001b[0;31mTypeError\u001b[0m: subplots() got an unexpected keyword argument 'figsize'"
          ]
        }
      ]
    },
    {
      "cell_type": "markdown",
      "source": [
        "### Save Charts from List"
      ],
      "metadata": {
        "id": "5790_WKyG2tL"
      }
    },
    {
      "cell_type": "code",
      "source": [
        "!rm *"
      ],
      "metadata": {
        "id": "lB-WoiZx7ktM"
      },
      "execution_count": null,
      "outputs": []
    },
    {
      "cell_type": "code",
      "source": [
        "for pair in coint_list[:35]:\n",
        "  A, B = df[pair[0]], df[pair[1]]\n",
        "  fig = summary_chart(A,B)\n",
        "  fig.savefig(f'{pair[0]} and {pair[1]} Cointegration Plot')"
      ],
      "metadata": {
        "collapsed": true,
        "id": "E8WhcB7u0Jpz"
      },
      "execution_count": null,
      "outputs": []
    },
    {
      "cell_type": "code",
      "source": [
        "!zip -r /content/file.zip /content/"
      ],
      "metadata": {
        "id": "kIvFlwVN2SBq"
      },
      "execution_count": null,
      "outputs": []
    }
  ]
}